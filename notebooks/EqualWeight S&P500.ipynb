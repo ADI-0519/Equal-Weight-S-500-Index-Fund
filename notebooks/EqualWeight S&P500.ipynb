{
 "cells": [
  {
   "cell_type": "code",
   "execution_count": 34,
   "id": "da95223e-ec4c-4cb4-8059-8a1a649c73f3",
   "metadata": {},
   "outputs": [],
   "source": [
    "import pandas as pd\n",
    "import numpy as np\n",
    "import requests\n",
    "import xlsxwriter\n",
    "import math\n",
    "\n",
    "import yfinance as yf\n",
    "\n",
    "from secret1 import key"
   ]
  },
  {
   "cell_type": "markdown",
   "id": "e4bdc6d9",
   "metadata": {},
   "source": [
    "Add all the imports firstly. Then lets import our stocks using a csv file!"
   ]
  },
  {
   "cell_type": "code",
   "execution_count": 2,
   "id": "c90a65a5",
   "metadata": {},
   "outputs": [
    {
     "name": "stdout",
     "output_type": "stream",
     "text": [
      "    Ticker\n",
      "0        A\n",
      "1      AAL\n",
      "2      AAP\n",
      "3     AAPL\n",
      "4     ABBV\n",
      "..     ...\n",
      "500    YUM\n",
      "501    ZBH\n",
      "502   ZBRA\n",
      "503   ZION\n",
      "504    ZTS\n",
      "\n",
      "[505 rows x 1 columns]\n"
     ]
    }
   ],
   "source": [
    "stocks = pd.read_csv(\"sp_500_stocks.csv\")\n",
    "print(stocks)"
   ]
  },
  {
   "cell_type": "markdown",
   "id": "10c09844",
   "metadata": {},
   "source": [
    "Lets set up and query the API."
   ]
  },
  {
   "cell_type": "code",
   "execution_count": 3,
   "id": "249c4c9d",
   "metadata": {},
   "outputs": [],
   "source": [
    "symbol = 'AAPL'\n",
    "stock = yf.Ticker(symbol)"
   ]
  },
  {
   "cell_type": "markdown",
   "id": "98fa58e1",
   "metadata": {},
   "source": [
    "Lets put this in a pandas dataframe to use."
   ]
  },
  {
   "cell_type": "code",
   "execution_count": 4,
   "id": "c63a0eec",
   "metadata": {},
   "outputs": [
    {
     "data": {
      "text/html": [
       "<div>\n",
       "<style scoped>\n",
       "    .dataframe tbody tr th:only-of-type {\n",
       "        vertical-align: middle;\n",
       "    }\n",
       "\n",
       "    .dataframe tbody tr th {\n",
       "        vertical-align: top;\n",
       "    }\n",
       "\n",
       "    .dataframe thead th {\n",
       "        text-align: right;\n",
       "    }\n",
       "</style>\n",
       "<table border=\"1\" class=\"dataframe\">\n",
       "  <thead>\n",
       "    <tr style=\"text-align: right;\">\n",
       "      <th></th>\n",
       "      <th>Ticker</th>\n",
       "      <th>Price</th>\n",
       "      <th>MarketCap</th>\n",
       "      <th>NoShares</th>\n",
       "    </tr>\n",
       "  </thead>\n",
       "  <tbody>\n",
       "  </tbody>\n",
       "</table>\n",
       "</div>"
      ],
      "text/plain": [
       "Empty DataFrame\n",
       "Columns: [Ticker, Price, MarketCap, NoShares]\n",
       "Index: []"
      ]
     },
     "execution_count": 4,
     "metadata": {},
     "output_type": "execute_result"
    }
   ],
   "source": [
    "columns = [\"Ticker\",\"Price\",\"MarketCap\",\"NoShares\"]\n",
    "df1 = pd.DataFrame(columns=columns)\n",
    "df1"
   ]
  },
  {
   "cell_type": "markdown",
   "id": "4e553230",
   "metadata": {},
   "source": [
    "Lets add our stock price and market cap."
   ]
  },
  {
   "cell_type": "code",
   "execution_count": 5,
   "id": "d2fc5721",
   "metadata": {},
   "outputs": [
    {
     "name": "stdout",
     "output_type": "stream",
     "text": [
      "    Stock   Price     MarketCap NoShares\n",
      "0       A  113.23  3.263617e+10      N/A\n",
      "1     AAL   11.74  7.746392e+09      N/A\n",
      "2     AAP   60.43  3.621304e+09      N/A\n",
      "3    AAPL  213.25  3.164715e+12      N/A\n",
      "4    ABBV  196.30  3.467757e+11      N/A\n",
      "..    ...     ...           ...      ...\n",
      "500   YUM  141.34  3.928757e+10      N/A\n",
      "501   ZBH   91.15  1.803385e+10      N/A\n",
      "502  ZBRA  308.31  1.567608e+10      N/A\n",
      "503  ZION   51.52  7.744743e+09      N/A\n",
      "504   ZTS  146.50  6.522297e+10      N/A\n",
      "\n",
      "[505 rows x 4 columns]\n"
     ]
    }
   ],
   "source": [
    "# df = df.append(pd.Series([\"AAPL\",stock.info['currentPrice'],stock.info['marketCap'],\"N/A\"],index=columns),ignore_index=True)\n",
    "\n",
    "lst = []\n",
    "for item in stocks['Ticker']:\n",
    "    obj = yf.Ticker(item)\n",
    "    row = {\"Stock\":item,\"Price\":obj.info.get(\"currentPrice\"),\"MarketCap\":obj.info.get(\"marketCap\"),\"NoShares\":\"N/A\"}\n",
    "    lst.append(row)\n",
    "\n",
    "df = pd.DataFrame(lst)\n",
    "print(df)\n",
    "\n",
    "#df_combined = pd.concat([df,df_new],ignore_index=True)\n",
    "#df_combined\n",
    "\n"
   ]
  },
  {
   "cell_type": "markdown",
   "id": "6cf5f2e2",
   "metadata": {},
   "source": [
    "Remember that to improve performance we can use batch api calls as http requests are the slowest components of a script. This basically gets us a large batch all at once instead of doing it 505 times. Pagination is used to again split the data into separate pages for easier access. Hence "
   ]
  },
  {
   "cell_type": "code",
   "execution_count": 6,
   "id": "c75ffa21",
   "metadata": {},
   "outputs": [
    {
     "name": "stdout",
     "output_type": "stream",
     "text": [
      "[{'Stock': 'A', 'Price': 113.23, 'MarketCap': 32636170240, 'NoShares': 'N/A'}, {'Stock': 'AAL', 'Price': 11.74, 'MarketCap': 7746392064, 'NoShares': 'N/A'}, {'Stock': 'AAP', 'Price': 60.43, 'MarketCap': 3621304064, 'NoShares': 'N/A'}, {'Stock': 'AAPL', 'Price': 213.25, 'MarketCap': 3164715352064, 'NoShares': 'N/A'}, {'Stock': 'ABBV', 'Price': 196.3, 'MarketCap': 346775748608, 'NoShares': 'N/A'}, {'Stock': 'ABC', 'Price': None, 'MarketCap': None, 'NoShares': 'N/A'}, {'Stock': 'ABMD', 'Price': None, 'MarketCap': None, 'NoShares': 'N/A'}, {'Stock': 'ABT', 'Price': 130.93, 'MarketCap': 227878420480, 'NoShares': 'N/A'}, {'Stock': 'ACN', 'Price': 247.54, 'MarketCap': 154181025792, 'NoShares': 'N/A'}, {'Stock': 'ADBE', 'Price': 345.62, 'MarketCap': 146611994624, 'NoShares': 'N/A'}, {'Stock': 'ADI', 'Price': 220.69, 'MarketCap': 109516972032, 'NoShares': 'N/A'}, {'Stock': 'ADM', 'Price': 56.73, 'MarketCap': 27683502080, 'NoShares': 'N/A'}, {'Stock': 'ADP', 'Price': 301.64, 'MarketCap': 122254696448, 'NoShares': 'N/A'}, {'Stock': 'ADSK', 'Price': 305.18, 'MarketCap': 65291730944, 'NoShares': 'N/A'}, {'Stock': 'AEE', 'Price': 101.62, 'MarketCap': 27584546816, 'NoShares': 'N/A'}, {'Stock': 'AEP', 'Price': 113.49, 'MarketCap': 60693884928, 'NoShares': 'N/A'}, {'Stock': 'AES', 'Price': 12.84, 'MarketCap': 9142721536, 'NoShares': 'N/A'}, {'Stock': 'AFL', 'Price': 102.31, 'MarketCap': 55313387520, 'NoShares': 'N/A'}, {'Stock': 'AIG', 'Price': 79.06, 'MarketCap': 45564645376, 'NoShares': 'N/A'}, {'Stock': 'AIV', 'Price': 8.66, 'MarketCap': 1227191296, 'NoShares': 'N/A'}, {'Stock': 'AIZ', 'Price': 210.04, 'MarketCap': 10649510912, 'NoShares': 'N/A'}, {'Stock': 'AJG', 'Price': 286.26, 'MarketCap': 73386475520, 'NoShares': 'N/A'}, {'Stock': 'AKAM', 'Price': 74.48, 'MarketCap': 10601185280, 'NoShares': 'N/A'}, {'Stock': 'ALB', 'Price': 67.3, 'MarketCap': 8031851520, 'NoShares': 'N/A'}, {'Stock': 'ALGN', 'Price': 136.9, 'MarketCap': 10124631040, 'NoShares': 'N/A'}, {'Stock': 'ALK', 'Price': 54.0, 'MarketCap': 6224904192, 'NoShares': 'N/A'}, {'Stock': 'ALL', 'Price': 209.01, 'MarketCap': 55075176448, 'NoShares': 'N/A'}, {'Stock': 'ALLE', 'Price': 164.49, 'MarketCap': 14199007232, 'NoShares': 'N/A'}, {'Stock': 'ALXN', 'Price': None, 'MarketCap': None, 'NoShares': 'N/A'}, {'Stock': 'AMAT', 'Price': 178.14, 'MarketCap': 142956986368, 'NoShares': 'N/A'}, {'Stock': 'AMCR', 'Price': 9.41, 'MarketCap': 21561509888, 'NoShares': 'N/A'}, {'Stock': 'AMD', 'Price': 163.12, 'MarketCap': 264717664256, 'NoShares': 'N/A'}, {'Stock': 'AME', 'Price': 185.47, 'MarketCap': 42835038208, 'NoShares': 'N/A'}, {'Stock': 'AMGN', 'Price': 284.67, 'MarketCap': 161354956800, 'NoShares': 'N/A'}, {'Stock': 'AMP', 'Price': 508.43, 'MarketCap': 47995789312, 'NoShares': 'N/A'}, {'Stock': 'AMT', 'Price': 208.9, 'MarketCap': 98356174848, 'NoShares': 'N/A'}, {'Stock': 'AMZN', 'Price': 222.31, 'MarketCap': 2370913697792, 'NoShares': 'N/A'}, {'Stock': 'ANET', 'Price': 138.78, 'MarketCap': 174296580096, 'NoShares': 'N/A'}, {'Stock': 'ANSS', 'Price': 374.3, 'MarketCap': 32906993664, 'NoShares': 'N/A'}, {'Stock': 'ANTM', 'Price': None, 'MarketCap': None, 'NoShares': 'N/A'}, {'Stock': 'AON', 'Price': 363.68, 'MarketCap': 78419230720, 'NoShares': 'N/A'}, {'Stock': 'AOS', 'Price': 70.56, 'MarketCap': 9853915136, 'NoShares': 'N/A'}, {'Stock': 'APA', 'Price': 18.06, 'MarketCap': 6708115968, 'NoShares': 'N/A'}, {'Stock': 'APD', 'Price': 289.05, 'MarketCap': 65092616192, 'NoShares': 'N/A'}, {'Stock': 'APH', 'Price': 109.5, 'MarketCap': 133690744832, 'NoShares': 'N/A'}, {'Stock': 'APTV', 'Price': 65.12, 'MarketCap': 14180532224, 'NoShares': 'N/A'}, {'Stock': 'ARE', 'Price': 73.85, 'MarketCap': 13340115968, 'NoShares': 'N/A'}, {'Stock': 'ATO', 'Price': 157.02, 'MarketCap': 24940584960, 'NoShares': 'N/A'}, {'Stock': 'ATVI', 'Price': None, 'MarketCap': None, 'NoShares': 'N/A'}, {'Stock': 'AVB', 'Price': 186.5, 'MarketCap': 26751932416, 'NoShares': 'N/A'}, {'Stock': 'AVGO', 'Price': 301.67, 'MarketCap': 1418895818752, 'NoShares': 'N/A'}, {'Stock': 'AVY', 'Price': 167.62, 'MarketCap': 13114170368, 'NoShares': 'N/A'}, {'Stock': 'AWK', 'Price': 141.91, 'MarketCap': 27686500352, 'NoShares': 'N/A'}, {'Stock': 'AXP', 'Price': 295.54, 'MarketCap': 205660962816, 'NoShares': 'N/A'}, {'Stock': 'AZO', 'Price': 4072.8, 'MarketCap': 68132651008, 'NoShares': 'N/A'}, {'Stock': 'BA', 'Price': 225.04, 'MarketCap': 170165796864, 'NoShares': 'N/A'}, {'Stock': 'BAC', 'Price': 45.42, 'MarketCap': 337460592640, 'NoShares': 'N/A'}, {'Stock': 'BAX', 'Price': 22.5, 'MarketCap': 11720902656, 'NoShares': 'N/A'}, {'Stock': 'BBY', 'Price': 67.43, 'MarketCap': 14251128832, 'NoShares': 'N/A'}, {'Stock': 'BDX', 'Price': 172.41, 'MarketCap': 50698027008, 'NoShares': 'N/A'}, {'Stock': 'BEN', 'Price': 25.19, 'MarketCap': 13109682176, 'NoShares': 'N/A'}, {'Stock': 'BF.B', 'Price': None, 'MarketCap': None, 'NoShares': 'N/A'}, {'Stock': 'BIIB', 'Price': 129.34, 'MarketCap': 19483648000, 'NoShares': 'N/A'}, {'Stock': 'BIO', 'Price': 264.32, 'MarketCap': 7119856128, 'NoShares': 'N/A'}, {'Stock': 'BK', 'Price': 102.29, 'MarketCap': 72139104256, 'NoShares': 'N/A'}, {'Stock': 'BKNG', 'Price': 5536.31, 'MarketCap': 179431260160, 'NoShares': 'N/A'}, {'Stock': 'BKR', 'Price': 43.43, 'MarketCap': 43201212416, 'NoShares': 'N/A'}, {'Stock': 'BLK', 'Price': 1120.54, 'MarketCap': 173459603456, 'NoShares': 'N/A'}, {'Stock': 'BLL', 'Price': None, 'MarketCap': None, 'NoShares': 'N/A'}, {'Stock': 'BMY', 'Price': 44.82, 'MarketCap': 91228422144, 'NoShares': 'N/A'}, {'Stock': 'BR', 'Price': 266.89, 'MarketCap': 31349702656, 'NoShares': 'N/A'}, {'Stock': 'BRK.B', 'Price': None, 'MarketCap': None, 'NoShares': 'N/A'}, {'Stock': 'BSX', 'Price': 102.95, 'MarketCap': 155331985408, 'NoShares': 'N/A'}, {'Stock': 'BWA', 'Price': 38.05, 'MarketCap': 8233753088, 'NoShares': 'N/A'}, {'Stock': 'BXP', 'Price': 66.02, 'MarketCap': 11685474304, 'NoShares': 'N/A'}, {'Stock': 'C', 'Price': 92.23, 'MarketCap': 169786212352, 'NoShares': 'N/A'}, {'Stock': 'CAG', 'Price': 18.93, 'MarketCap': 9037996032, 'NoShares': 'N/A'}, {'Stock': 'CAH', 'Price': 156.6, 'MarketCap': 37768318976, 'NoShares': 'N/A'}, {'Stock': 'CARR', 'Price': 66.11, 'MarketCap': 56261128192, 'NoShares': 'N/A'}, {'Stock': 'CAT', 'Price': 427.72, 'MarketCap': 201163128832, 'NoShares': 'N/A'}, {'Stock': 'CB', 'Price': 269.63, 'MarketCap': 107498782720, 'NoShares': 'N/A'}, {'Stock': 'CBOE', 'Price': 248.1, 'MarketCap': 26020976640, 'NoShares': 'N/A'}, {'Stock': 'CBRE', 'Price': 155.88, 'MarketCap': 46558396416, 'NoShares': 'N/A'}, {'Stock': 'CCI', 'Price': 105.29, 'MarketCap': 45849481216, 'NoShares': 'N/A'}, {'Stock': 'CCL', 'Price': 29.24, 'MarketCap': 39700320256, 'NoShares': 'N/A'}, {'Stock': 'CDNS', 'Price': 360.16, 'MarketCap': 98232565760, 'NoShares': 'N/A'}, {'Stock': 'CDW', 'Price': 165.51, 'MarketCap': 21795184640, 'NoShares': 'N/A'}, {'Stock': 'CE', 'Price': 47.82, 'MarketCap': 5399260672, 'NoShares': 'N/A'}, {'Stock': 'CERN', 'Price': None, 'MarketCap': None, 'NoShares': 'N/A'}, {'Stock': 'CF', 'Price': 89.9, 'MarketCap': 15021571072, 'NoShares': 'N/A'}, {'Stock': 'CFG', 'Price': 46.93, 'MarketCap': 20402819072, 'NoShares': 'N/A'}, {'Stock': 'CHD', 'Price': 92.5, 'MarketCap': 22533832704, 'NoShares': 'N/A'}, {'Stock': 'CHRW', 'Price': 117.74, 'MarketCap': 13904033792, 'NoShares': 'N/A'}, {'Stock': 'CHTR', 'Price': 262.04, 'MarketCap': 36330532864, 'NoShares': 'N/A'}, {'Stock': 'CI', 'Price': 269.96, 'MarketCap': 72268021760, 'NoShares': 'N/A'}, {'Stock': 'CINF', 'Price': 154.05, 'MarketCap': 24089722880, 'NoShares': 'N/A'}, {'Stock': 'CL', 'Price': 84.61, 'MarketCap': 68383580160, 'NoShares': 'N/A'}, {'Stock': 'CLX', 'Price': 125.5, 'MarketCap': 15468251136, 'NoShares': 'N/A'}, {'Stock': 'CMA', 'Price': 66.5, 'MarketCap': 8688291840, 'NoShares': 'N/A'}, {'Stock': 'CMCSA', 'Price': 32.16, 'MarketCap': 120033656832, 'NoShares': 'N/A'}]\n",
      "\n",
      "\n",
      "[{'Stock': 'CME', 'Price': 281.35, 'MarketCap': 102567829504, 'NoShares': 'N/A'}, {'Stock': 'CMG', 'Price': 42.69, 'MarketCap': 57242165248, 'NoShares': 'N/A'}, {'Stock': 'CMI', 'Price': 381.68, 'MarketCap': 52578328576, 'NoShares': 'N/A'}, {'Stock': 'CMS', 'Price': 74.11, 'MarketCap': 22198685696, 'NoShares': 'N/A'}, {'Stock': 'CNC', 'Price': 25.21, 'MarketCap': 12715444224, 'NoShares': 'N/A'}, {'Stock': 'CNP', 'Price': 38.6, 'MarketCap': 25416015872, 'NoShares': 'N/A'}, {'Stock': 'COF', 'Price': 212.88, 'MarketCap': 136140382208, 'NoShares': 'N/A'}, {'Stock': 'COG', 'Price': 22.25, 'MarketCap': None, 'NoShares': 'N/A'}, {'Stock': 'COO', 'Price': 68.12, 'MarketCap': 13878087680, 'NoShares': 'N/A'}, {'Stock': 'COP', 'Price': 93.11, 'MarketCap': 117656584192, 'NoShares': 'N/A'}, {'Stock': 'COST', 'Price': 968.56, 'MarketCap': 429534085120, 'NoShares': 'N/A'}, {'Stock': 'COTY', 'Price': 4.9, 'MarketCap': 4274221056, 'NoShares': 'N/A'}, {'Stock': 'CPB', 'Price': 32.69, 'MarketCap': 9745868800, 'NoShares': 'N/A'}, {'Stock': 'CPRT', 'Price': 47.11, 'MarketCap': 45552357376, 'NoShares': 'N/A'}, {'Stock': 'CRM', 'Price': 249.17, 'MarketCap': 238206517248, 'NoShares': 'N/A'}, {'Stock': 'CSCO', 'Price': 69.21, 'MarketCap': 274071601152, 'NoShares': 'N/A'}, {'Stock': 'CSX', 'Price': 36.01, 'MarketCap': 67132723200, 'NoShares': 'N/A'}, {'Stock': 'CTAS', 'Price': 224.28, 'MarketCap': 90379902976, 'NoShares': 'N/A'}, {'Stock': 'CTL', 'Price': None, 'MarketCap': None, 'NoShares': 'N/A'}, {'Stock': 'CTSH', 'Price': 70.89, 'MarketCap': 34622390272, 'NoShares': 'N/A'}, {'Stock': 'CTVA', 'Price': 71.17, 'MarketCap': 48550035456, 'NoShares': 'N/A'}, {'Stock': 'CTXS', 'Price': None, 'MarketCap': None, 'NoShares': 'N/A'}, {'Stock': 'CVS', 'Price': 63.52, 'MarketCap': 80564322304, 'NoShares': 'N/A'}, {'Stock': 'CVX', 'Price': 152.78, 'MarketCap': 311165517824, 'NoShares': 'N/A'}, {'Stock': 'CXO', 'Price': None, 'MarketCap': None, 'NoShares': 'N/A'}, {'Stock': 'D', 'Price': 60.97, 'MarketCap': 52127703040, 'NoShares': 'N/A'}, {'Stock': 'DAL', 'Price': 54.12, 'MarketCap': 35337543680, 'NoShares': 'N/A'}, {'Stock': 'DD', 'Price': 70.8, 'MarketCap': 30398830592, 'NoShares': 'N/A'}, {'Stock': 'DE', 'Price': 509.64, 'MarketCap': 138024288256, 'NoShares': 'N/A'}, {'Stock': 'DFS', 'Price': None, 'MarketCap': None, 'NoShares': 'N/A'}, {'Stock': 'DG', 'Price': 113.32, 'MarketCap': 24938446848, 'NoShares': 'N/A'}, {'Stock': 'DGX', 'Price': 173.0, 'MarketCap': 19375654912, 'NoShares': 'N/A'}, {'Stock': 'DHI', 'Price': 154.06, 'MarketCap': 46158532608, 'NoShares': 'N/A'}, {'Stock': 'DHR', 'Price': 195.17, 'MarketCap': 142522892288, 'NoShares': 'N/A'}, {'Stock': 'DIS', 'Price': 115.17, 'MarketCap': 212709769216, 'NoShares': 'N/A'}, {'Stock': 'DISCA', 'Price': None, 'MarketCap': None, 'NoShares': 'N/A'}, {'Stock': 'DISCK', 'Price': None, 'MarketCap': None, 'NoShares': 'N/A'}, {'Stock': 'DISH', 'Price': None, 'MarketCap': None, 'NoShares': 'N/A'}, {'Stock': 'DLR', 'Price': 169.49, 'MarketCap': 59798450176, 'NoShares': 'N/A'}, {'Stock': 'DLTR', 'Price': 116.37, 'MarketCap': 24285954048, 'NoShares': 'N/A'}, {'Stock': 'DOV', 'Price': 174.3, 'MarketCap': 24297420800, 'NoShares': 'N/A'}, {'Stock': 'DOW', 'Price': 21.3, 'MarketCap': 15098377216, 'NoShares': 'N/A'}, {'Stock': 'DPZ', 'Price': 443.78, 'MarketCap': 15065842688, 'NoShares': 'N/A'}, {'Stock': 'DRE', 'Price': None, 'MarketCap': None, 'NoShares': 'N/A'}, {'Stock': 'DRI', 'Price': 205.15, 'MarketCap': 23919464448, 'NoShares': 'N/A'}, {'Stock': 'DTE', 'Price': 139.12, 'MarketCap': 28970903552, 'NoShares': 'N/A'}, {'Stock': 'DUK', 'Price': 125.21, 'MarketCap': 97320353792, 'NoShares': 'N/A'}, {'Stock': 'DVA', 'Price': 127.81, 'MarketCap': 10620078080, 'NoShares': 'N/A'}, {'Stock': 'DVN', 'Price': 32.45, 'MarketCap': 20836145152, 'NoShares': 'N/A'}, {'Stock': 'DXC', 'Price': 13.25, 'MarketCap': 2371736832, 'NoShares': 'N/A'}, {'Stock': 'DXCM', 'Price': 76.4, 'MarketCap': 29960642560, 'NoShares': 'N/A'}, {'Stock': 'EA', 'Price': 163.0, 'MarketCap': 40783740928, 'NoShares': 'N/A'}, {'Stock': 'EBAY', 'Price': 92.54, 'MarketCap': 42290782208, 'NoShares': 'N/A'}, {'Stock': 'ECL', 'Price': 268.79, 'MarketCap': 76205457408, 'NoShares': 'N/A'}, {'Stock': 'ED', 'Price': 104.15, 'MarketCap': 37535662080, 'NoShares': 'N/A'}, {'Stock': 'EFX', 'Price': 240.58, 'MarketCap': 29638733824, 'NoShares': 'N/A'}, {'Stock': 'EIX', 'Price': 54.91, 'MarketCap': 21273616384, 'NoShares': 'N/A'}, {'Stock': 'EL', 'Price': 90.15, 'MarketCap': 32708673536, 'NoShares': 'N/A'}, {'Stock': 'EMN', 'Price': 60.92, 'MarketCap': 7049540096, 'NoShares': 'N/A'}, {'Stock': 'EMR', 'Price': 133.93, 'MarketCap': 79070658560, 'NoShares': 'N/A'}, {'Stock': 'EOG', 'Price': 116.59, 'MarketCap': 64282828800, 'NoShares': 'N/A'}, {'Stock': 'EQIX', 'Price': 773.0, 'MarketCap': 76230164480, 'NoShares': 'N/A'}, {'Stock': 'EQR', 'Price': 63.4, 'MarketCap': 24834160640, 'NoShares': 'N/A'}, {'Stock': 'ES', 'Price': 65.43, 'MarketCap': 24449097728, 'NoShares': 'N/A'}, {'Stock': 'ESS', 'Price': 254.52, 'MarketCap': 17775472640, 'NoShares': 'N/A'}, {'Stock': 'ETFC', 'Price': None, 'MarketCap': None, 'NoShares': 'N/A'}, {'Stock': 'ETN', 'Price': 358.16, 'MarketCap': 139478974464, 'NoShares': 'N/A'}, {'Stock': 'ETR', 'Price': 90.28, 'MarketCap': 40355340288, 'NoShares': 'N/A'}, {'Stock': 'EVRG', 'Price': 73.25, 'MarketCap': 16854166528, 'NoShares': 'N/A'}, {'Stock': 'EW', 'Price': 78.61, 'MarketCap': 46112624640, 'NoShares': 'N/A'}, {'Stock': 'EXC', 'Price': 45.06, 'MarketCap': 45510152192, 'NoShares': 'N/A'}, {'Stock': 'EXPD', 'Price': 118.73, 'MarketCap': 16259836928, 'NoShares': 'N/A'}, {'Stock': 'EXPE', 'Price': 185.14, 'MarketCap': 23115655168, 'NoShares': 'N/A'}, {'Stock': 'EXR', 'Price': 138.05, 'MarketCap': 30716125184, 'NoShares': 'N/A'}, {'Stock': 'F', 'Price': 11.21, 'MarketCap': 44614230016, 'NoShares': 'N/A'}, {'Stock': 'FANG', 'Price': 144.36, 'MarketCap': 42031136768, 'NoShares': 'N/A'}, {'Stock': 'FAST', 'Price': 46.78, 'MarketCap': 53686599680, 'NoShares': 'N/A'}, {'Stock': 'FB', 'Price': None, 'MarketCap': None, 'NoShares': 'N/A'}, {'Stock': 'FBHS', 'Price': None, 'MarketCap': None, 'NoShares': 'N/A'}, {'Stock': 'FCX', 'Price': 39.86, 'MarketCap': 55804002304, 'NoShares': 'N/A'}, {'Stock': 'FDX', 'Price': 226.45, 'MarketCap': 53419331584, 'NoShares': 'N/A'}, {'Stock': 'FE', 'Price': 43.44, 'MarketCap': 25128605696, 'NoShares': 'N/A'}, {'Stock': 'FFIV', 'Price': 321.23, 'MarketCap': 18588616704, 'NoShares': 'N/A'}, {'Stock': 'FIS', 'Price': 69.9, 'MarketCap': 37944029184, 'NoShares': 'N/A'}, {'Stock': 'FISV', 'Price': None, 'MarketCap': None, 'NoShares': 'N/A'}, {'Stock': 'FITB', 'Price': 41.25, 'MarketCap': 27603138560, 'NoShares': 'N/A'}, {'Stock': 'FLIR', 'Price': None, 'MarketCap': None, 'NoShares': 'N/A'}, {'Stock': 'FLS', 'Price': 53.78, 'MarketCap': 7089709568, 'NoShares': 'N/A'}, {'Stock': 'FLT', 'Price': None, 'MarketCap': None, 'NoShares': 'N/A'}, {'Stock': 'FMC', 'Price': 36.71, 'MarketCap': 4726669312, 'NoShares': 'N/A'}, {'Stock': 'FOX', 'Price': 49.5, 'MarketCap': 23040815104, 'NoShares': 'N/A'}, {'Stock': 'FOXA', 'Price': 54.2, 'MarketCap': 23040800768, 'NoShares': 'N/A'}, {'Stock': 'FRC', 'Price': 3.51, 'MarketCap': None, 'NoShares': 'N/A'}, {'Stock': 'FRT', 'Price': 93.18, 'MarketCap': 8112595456, 'NoShares': 'N/A'}, {'Stock': 'FTI', 'Price': 35.57, 'MarketCap': 14619839488, 'NoShares': 'N/A'}, {'Stock': 'FTNT', 'Price': 96.58, 'MarketCap': 73923878912, 'NoShares': 'N/A'}, {'Stock': 'FTV', 'Price': 47.59, 'MarketCap': 16375481344, 'NoShares': 'N/A'}, {'Stock': 'GD', 'Price': 314.99, 'MarketCap': 84730101760, 'NoShares': 'N/A'}, {'Stock': 'GE', 'Price': 272.28, 'MarketCap': 288736608256, 'NoShares': 'N/A'}, {'Stock': 'GILD', 'Price': 110.28, 'MarketCap': 137180594176, 'NoShares': 'N/A'}]\n",
      "\n",
      "\n",
      "[{'Stock': 'GIS', 'Price': 49.31, 'MarketCap': 26747127808, 'NoShares': 'N/A'}, {'Stock': 'GL', 'Price': 141.23, 'MarketCap': 11657532416, 'NoShares': 'N/A'}, {'Stock': 'GLW', 'Price': 63.98, 'MarketCap': 54806482944, 'NoShares': 'N/A'}, {'Stock': 'GM', 'Price': 52.47, 'MarketCap': 50060263424, 'NoShares': 'N/A'}, {'Stock': 'GOOG', 'Price': 196.92, 'MarketCap': 2357861023744, 'NoShares': 'N/A'}, {'Stock': 'GOOGL', 'Price': 196.09, 'MarketCap': 2357864431616, 'NoShares': 'N/A'}, {'Stock': 'GPC', 'Price': 133.45, 'MarketCap': 18561826816, 'NoShares': 'N/A'}, {'Stock': 'GPN', 'Price': 85.54, 'MarketCap': 20861495296, 'NoShares': 'N/A'}, {'Stock': 'GPS', 'Price': None, 'MarketCap': None, 'NoShares': 'N/A'}, {'Stock': 'GRMN', 'Price': 230.08, 'MarketCap': 44289019904, 'NoShares': 'N/A'}, {'Stock': 'GS', 'Price': 724.74, 'MarketCap': 219394015232, 'NoShares': 'N/A'}, {'Stock': 'GWW', 'Price': 960.27, 'MarketCap': 45931827200, 'NoShares': 'N/A'}, {'Stock': 'HAL', 'Price': 21.22, 'MarketCap': 18484422656, 'NoShares': 'N/A'}, {'Stock': 'HAS', 'Price': 77.05, 'MarketCap': 10804952064, 'NoShares': 'N/A'}, {'Stock': 'HBAN', 'Price': 16.04, 'MarketCap': 23747381248, 'NoShares': 'N/A'}, {'Stock': 'HBI', 'Price': 4.17, 'MarketCap': 1488823424, 'NoShares': 'N/A'}, {'Stock': 'HCA', 'Price': 366.15, 'MarketCap': 85676900352, 'NoShares': 'N/A'}, {'Stock': 'HD', 'Price': 386.8, 'MarketCap': 384838139904, 'NoShares': 'N/A'}, {'Stock': 'HES', 'Price': 148.97, 'MarketCap': 46072102912, 'NoShares': 'N/A'}, {'Stock': 'HFC', 'Price': None, 'MarketCap': None, 'NoShares': 'N/A'}, {'Stock': 'HIG', 'Price': 128.81, 'MarketCap': 36217765888, 'NoShares': 'N/A'}, {'Stock': 'HII', 'Price': 267.49, 'MarketCap': 10631068672, 'NoShares': 'N/A'}, {'Stock': 'HLT', 'Price': 260.95, 'MarketCap': 61373878272, 'NoShares': 'N/A'}, {'Stock': 'HOLX', 'Price': 66.89, 'MarketCap': 15084497920, 'NoShares': 'N/A'}, {'Stock': 'HON', 'Price': 219.23, 'MarketCap': 139188469760, 'NoShares': 'N/A'}, {'Stock': 'HPE', 'Price': 20.13, 'MarketCap': 26414987264, 'NoShares': 'N/A'}, {'Stock': 'HPQ', 'Price': 25.01, 'MarketCap': 23528781824, 'NoShares': 'N/A'}, {'Stock': 'HRB', 'Price': 54.94, 'MarketCap': 7355366912, 'NoShares': 'N/A'}, {'Stock': 'HRL', 'Price': 28.26, 'MarketCap': 15562019840, 'NoShares': 'N/A'}, {'Stock': 'HSIC', 'Price': 66.315, 'MarketCap': 8289707008, 'NoShares': 'N/A'}, {'Stock': 'HST', 'Price': 15.3, 'MarketCap': 10725024768, 'NoShares': 'N/A'}, {'Stock': 'HSY', 'Price': 188.59, 'MarketCap': 38302629888, 'NoShares': 'N/A'}, {'Stock': 'HUM', 'Price': 256.62, 'MarketCap': 30864199680, 'NoShares': 'N/A'}, {'Stock': 'HWM', 'Price': 182.06, 'MarketCap': 73393119232, 'NoShares': 'N/A'}, {'Stock': 'IBM', 'Price': 252.28, 'MarketCap': 235003609088, 'NoShares': 'N/A'}, {'Stock': 'ICE', 'Price': 188.05, 'MarketCap': 107644141568, 'NoShares': 'N/A'}, {'Stock': 'IDXX', 'Price': 624.19, 'MarketCap': 51358228480, 'NoShares': 'N/A'}, {'Stock': 'IEX', 'Price': 159.72, 'MarketCap': 12024887296, 'NoShares': 'N/A'}, {'Stock': 'IFF', 'Price': 66.16, 'MarketCap': 16955949056, 'NoShares': 'N/A'}, {'Stock': 'ILMN', 'Price': 94.43, 'MarketCap': 15025701888, 'NoShares': 'N/A'}, {'Stock': 'INCY', 'Price': 77.65, 'MarketCap': 15177857024, 'NoShares': 'N/A'}, {'Stock': 'INFO', 'Price': None, 'MarketCap': None, 'NoShares': 'N/A'}, {'Stock': 'INTC', 'Price': 20.41, 'MarketCap': 89334571008, 'NoShares': 'N/A'}, {'Stock': 'INTU', 'Price': 779.47, 'MarketCap': 217430818816, 'NoShares': 'N/A'}, {'Stock': 'IP', 'Price': 46.33, 'MarketCap': 24457701376, 'NoShares': 'N/A'}, {'Stock': 'IPG', 'Price': 24.92, 'MarketCap': 9127348224, 'NoShares': 'N/A'}, {'Stock': 'IPGP', 'Price': 72.14, 'MarketCap': 3159082752, 'NoShares': 'N/A'}, {'Stock': 'IQV', 'Price': 177.49, 'MarketCap': 31268059136, 'NoShares': 'N/A'}, {'Stock': 'IR', 'Price': 76.48, 'MarketCap': 30397206528, 'NoShares': 'N/A'}, {'Stock': 'IRM', 'Price': 90.04, 'MarketCap': 28191434752, 'NoShares': 'N/A'}, {'Stock': 'ISRG', 'Price': 474.06, 'MarketCap': 170993434624, 'NoShares': 'N/A'}, {'Stock': 'IT', 'Price': 243.71, 'MarketCap': 18474242048, 'NoShares': 'N/A'}, {'Stock': 'ITW', 'Price': 257.51, 'MarketCap': 75064164352, 'NoShares': 'N/A'}, {'Stock': 'IVZ', 'Price': 21.1, 'MarketCap': 9441047552, 'NoShares': 'N/A'}, {'Stock': 'J', 'Price': 146.95, 'MarketCap': 17656924160, 'NoShares': 'N/A'}, {'Stock': 'JBHT', 'Price': 143.51, 'MarketCap': 13891666944, 'NoShares': 'N/A'}, {'Stock': 'JCI', 'Price': 104.67, 'MarketCap': 68989673472, 'NoShares': 'N/A'}, {'Stock': 'JKHY', 'Price': 166.76, 'MarketCap': 12142795776, 'NoShares': 'N/A'}, {'Stock': 'JNJ', 'Price': 170.59, 'MarketCap': 411200356352, 'NoShares': 'N/A'}, {'Stock': 'JNPR', 'Price': 39.95, 'MarketCap': 13358601216, 'NoShares': 'N/A'}, {'Stock': 'JPM', 'Price': 291.35, 'MarketCap': 801171767296, 'NoShares': 'N/A'}, {'Stock': 'K', 'Price': 79.84, 'MarketCap': 27757891584, 'NoShares': 'N/A'}, {'Stock': 'KEY', 'Price': 17.49, 'MarketCap': 19812845568, 'NoShares': 'N/A'}, {'Stock': 'KEYS', 'Price': 160.75, 'MarketCap': 27764580352, 'NoShares': 'N/A'}, {'Stock': 'KHC', 'Price': 27.26, 'MarketCap': 32264935424, 'NoShares': 'N/A'}, {'Stock': 'KIM', 'Price': 21.33, 'MarketCap': 14444676096, 'NoShares': 'N/A'}, {'Stock': 'KLAC', 'Price': 888.28, 'MarketCap': 117467037696, 'NoShares': 'N/A'}, {'Stock': 'KMB', 'Price': 136.68, 'MarketCap': 45347688448, 'NoShares': 'N/A'}, {'Stock': 'KMI', 'Price': 26.75, 'MarketCap': 62307172352, 'NoShares': 'N/A'}, {'Stock': 'KMX', 'Price': 56.22, 'MarketCap': 8437047808, 'NoShares': 'N/A'}, {'Stock': 'KO', 'Price': 69.51, 'MarketCap': 299148083200, 'NoShares': 'N/A'}, {'Stock': 'KR', 'Price': 73.73, 'MarketCap': 48747032576, 'NoShares': 'N/A'}, {'Stock': 'KSS', 'Price': 11.75, 'MarketCap': 1316493440, 'NoShares': 'N/A'}, {'Stock': 'KSU', 'Price': None, 'MarketCap': None, 'NoShares': 'N/A'}, {'Stock': 'L', 'Price': 94.08, 'MarketCap': 19514638336, 'NoShares': 'N/A'}, {'Stock': 'LB', 'Price': 59.35, 'MarketCap': 4634154496, 'NoShares': 'N/A'}, {'Stock': 'LDOS', 'Price': 174.49, 'MarketCap': 22386544640, 'NoShares': 'N/A'}, {'Stock': 'LEG', 'Price': 8.73, 'MarketCap': 1181168896, 'NoShares': 'N/A'}, {'Stock': 'LEN', 'Price': 119.35, 'MarketCap': 30950678528, 'NoShares': 'N/A'}, {'Stock': 'LH', 'Price': 260.85, 'MarketCap': 21895176192, 'NoShares': 'N/A'}, {'Stock': 'LHX', 'Price': 276.88, 'MarketCap': 52053442560, 'NoShares': 'N/A'}, {'Stock': 'LIN', 'Price': 471.48, 'MarketCap': 221081698304, 'NoShares': 'N/A'}, {'Stock': 'LKQ', 'Price': 29.94, 'MarketCap': 7708502016, 'NoShares': 'N/A'}, {'Stock': 'LLY', 'Price': 746.37, 'MarketCap': 670043209728, 'NoShares': 'N/A'}, {'Stock': 'LMT', 'Price': 434.85, 'MarketCap': 101522251776, 'NoShares': 'N/A'}, {'Stock': 'LNC', 'Price': 39.44, 'MarketCap': 7477035008, 'NoShares': 'N/A'}, {'Stock': 'LNT', 'Price': 65.77, 'MarketCap': 16971815936, 'NoShares': 'N/A'}, {'Stock': 'LOW', 'Price': 238.29, 'MarketCap': 133546770432, 'NoShares': 'N/A'}, {'Stock': 'LRCX', 'Price': 95.94, 'MarketCap': 122662174720, 'NoShares': 'N/A'}, {'Stock': 'LUV', 'Price': 29.71, 'MarketCap': 15713618944, 'NoShares': 'N/A'}, {'Stock': 'LVS', 'Price': 52.72, 'MarketCap': 36189855744, 'NoShares': 'N/A'}, {'Stock': 'LW', 'Price': 51.45, 'MarketCap': 7167035904, 'NoShares': 'N/A'}, {'Stock': 'LYB', 'Price': 49.55, 'MarketCap': 16719260672, 'NoShares': 'N/A'}, {'Stock': 'LYV', 'Price': 149.29, 'MarketCap': 34863095808, 'NoShares': 'N/A'}, {'Stock': 'MA', 'Price': 569.13, 'MarketCap': 511707054080, 'NoShares': 'N/A'}, {'Stock': 'MAA', 'Price': 140.61, 'MarketCap': 17019013120, 'NoShares': 'N/A'}, {'Stock': 'MAR', 'Price': 262.71, 'MarketCap': 71955218432, 'NoShares': 'N/A'}, {'Stock': 'MAS', 'Price': 69.33, 'MarketCap': 14647071744, 'NoShares': 'N/A'}, {'Stock': 'MCD', 'Price': 307.66, 'MarketCap': 219987066880, 'NoShares': 'N/A'}, {'Stock': 'MCHP', 'Price': 66.17, 'MarketCap': 36228337664, 'NoShares': 'N/A'}]\n",
      "\n",
      "\n",
      "[{'Stock': 'MCK', 'Price': 703.76, 'MarketCap': 88618164224, 'NoShares': 'N/A'}, {'Stock': 'MCO', 'Price': 517.48, 'MarketCap': 92814696448, 'NoShares': 'N/A'}, {'Stock': 'MDLZ', 'Price': 62.07, 'MarketCap': 80612786176, 'NoShares': 'N/A'}, {'Stock': 'MDT', 'Price': 89.36, 'MarketCap': 114891038720, 'NoShares': 'N/A'}, {'Stock': 'MET', 'Price': 75.95, 'MarketCap': 50985078784, 'NoShares': 'N/A'}, {'Stock': 'MGM', 'Price': 35.09, 'MarketCap': 9551182848, 'NoShares': 'N/A'}, {'Stock': 'MHK', 'Price': 121.18, 'MarketCap': 7529143808, 'NoShares': 'N/A'}, {'Stock': 'MKC', 'Price': 69.43, 'MarketCap': 18728048640, 'NoShares': 'N/A'}, {'Stock': 'MKTX', 'Price': 186.8, 'MarketCap': 7005317632, 'NoShares': 'N/A'}, {'Stock': 'MLM', 'Price': 598.04, 'MarketCap': 36623368192, 'NoShares': 'N/A'}, {'Stock': 'MMC', 'Price': 203.9, 'MarketCap': 100242128896, 'NoShares': 'N/A'}, {'Stock': 'MMM', 'Price': 150.82, 'MarketCap': 80331259904, 'NoShares': 'N/A'}, {'Stock': 'MNST', 'Price': 59.5, 'MarketCap': 58027139072, 'NoShares': 'N/A'}, {'Stock': 'MO', 'Price': 63.15, 'MarketCap': 106085056512, 'NoShares': 'N/A'}, {'Stock': 'MOS', 'Price': 30.93, 'MarketCap': 9813718016, 'NoShares': 'N/A'}, {'Stock': 'MPC', 'Price': 162.44, 'MarketCap': 51351670784, 'NoShares': 'N/A'}, {'Stock': 'MRK', 'Price': 79.44, 'MarketCap': 202865934336, 'NoShares': 'N/A'}, {'Stock': 'MRO', 'Price': None, 'MarketCap': None, 'NoShares': 'N/A'}, {'Stock': 'MS', 'Price': 141.3, 'MarketCap': 225562836992, 'NoShares': 'N/A'}, {'Stock': 'MSCI', 'Price': 548.3, 'MarketCap': 43148906496, 'NoShares': 'N/A'}, {'Stock': 'MSFT', 'Price': 524.94, 'MarketCap': 3901968351232, 'NoShares': 'N/A'}, {'Stock': 'MSI', 'Price': 442.12, 'MarketCap': 73796902912, 'NoShares': 'N/A'}, {'Stock': 'MTB', 'Price': 185.5, 'MarketCap': 29384867840, 'NoShares': 'N/A'}, {'Stock': 'MTD', 'Price': 1221.84, 'MarketCap': 25623939072, 'NoShares': 'N/A'}, {'Stock': 'MU', 'Price': 108.78, 'MarketCap': 121738960896, 'NoShares': 'N/A'}, {'Stock': 'MXIM', 'Price': None, 'MarketCap': None, 'NoShares': 'N/A'}, {'Stock': 'MYL', 'Price': None, 'MarketCap': None, 'NoShares': 'N/A'}, {'Stock': 'NBL', 'Price': None, 'MarketCap': None, 'NoShares': 'N/A'}, {'Stock': 'NCLH', 'Price': 24.81, 'MarketCap': 11298424832, 'NoShares': 'N/A'}, {'Stock': 'NDAQ', 'Price': 96.56, 'MarketCap': 55405645824, 'NoShares': 'N/A'}, {'Stock': 'NEE', 'Price': 70.54, 'MarketCap': 146580717568, 'NoShares': 'N/A'}, {'Stock': 'NEM', 'Price': 67.92, 'MarketCap': 74606723072, 'NoShares': 'N/A'}, {'Stock': 'NFLX', 'Price': 1178.48, 'MarketCap': 500766801920, 'NoShares': 'N/A'}, {'Stock': 'NI', 'Price': 41.84, 'MarketCap': 20193155072, 'NoShares': 'N/A'}, {'Stock': 'NKE', 'Price': 75.48, 'MarketCap': 109852082176, 'NoShares': 'N/A'}, {'Stock': 'NLOK', 'Price': None, 'MarketCap': None, 'NoShares': 'N/A'}, {'Stock': 'NLSN', 'Price': 27.98, 'MarketCap': None, 'NoShares': 'N/A'}, {'Stock': 'NOC', 'Price': 589.29, 'MarketCap': 84470595584, 'NoShares': 'N/A'}, {'Stock': 'NOV', 'Price': 11.96, 'MarketCap': 4441525248, 'NoShares': 'N/A'}, {'Stock': 'NOW', 'Price': 912.31, 'MarketCap': 189321658368, 'NoShares': 'N/A'}, {'Stock': 'NRG', 'Price': 148.56, 'MarketCap': 33620019200, 'NoShares': 'N/A'}, {'Stock': 'NSC', 'Price': 282.95, 'MarketCap': 63480967168, 'NoShares': 'N/A'}, {'Stock': 'NTAP', 'Price': 103.33, 'MarketCap': 20676231168, 'NoShares': 'N/A'}, {'Stock': 'NTRS', 'Price': 125.67, 'MarketCap': 24007997440, 'NoShares': 'N/A'}, {'Stock': 'NUE', 'Price': 138.52, 'MarketCap': 32178196480, 'NoShares': 'N/A'}, {'Stock': 'NVDA', 'Price': 179.42, 'MarketCap': 4375623237632, 'NoShares': 'N/A'}, {'Stock': 'NVR', 'Price': 7870.2, 'MarketCap': 21851768832, 'NoShares': 'N/A'}, {'Stock': 'NWL', 'Price': 4.95, 'MarketCap': 2145790208, 'NoShares': 'N/A'}, {'Stock': 'NWS', 'Price': 33.91, 'MarketCap': 17351340032, 'NoShares': 'N/A'}, {'Stock': 'NWSA', 'Price': 29.43, 'MarketCap': 17351340032, 'NoShares': 'N/A'}, {'Stock': 'O', 'Price': 56.91, 'MarketCap': 51656179712, 'NoShares': 'N/A'}, {'Stock': 'ODFL', 'Price': 149.93, 'MarketCap': 31683954688, 'NoShares': 'N/A'}, {'Stock': 'OKE', 'Price': 75.23, 'MarketCap': 47672045568, 'NoShares': 'N/A'}, {'Stock': 'OMC', 'Price': 72.95, 'MarketCap': 14132092928, 'NoShares': 'N/A'}, {'Stock': 'ORCL', 'Price': 256.43, 'MarketCap': 720268230656, 'NoShares': 'N/A'}, {'Stock': 'ORLY', 'Price': 104.44, 'MarketCap': 88655044608, 'NoShares': 'N/A'}, {'Stock': 'OTIS', 'Price': 86.97, 'MarketCap': 34133551104, 'NoShares': 'N/A'}, {'Stock': 'OXY', 'Price': 42.54, 'MarketCap': 42396430336, 'NoShares': 'N/A'}, {'Stock': 'PAYC', 'Price': 223.26, 'MarketCap': 12507024384, 'NoShares': 'N/A'}, {'Stock': 'PAYX', 'Price': 139.08, 'MarketCap': 50138759168, 'NoShares': 'N/A'}, {'Stock': 'PBCT', 'Price': None, 'MarketCap': None, 'NoShares': 'N/A'}, {'Stock': 'PCAR', 'Price': 97.37, 'MarketCap': 51565109248, 'NoShares': 'N/A'}, {'Stock': 'PEAK', 'Price': None, 'MarketCap': None, 'NoShares': 'N/A'}, {'Stock': 'PEG', 'Price': 85.87, 'MarketCap': 43996614656, 'NoShares': 'N/A'}, {'Stock': 'PEP', 'Price': 140.8, 'MarketCap': 192766476288, 'NoShares': 'N/A'}, {'Stock': 'PFE', 'Price': 23.93, 'MarketCap': 140717490176, 'NoShares': 'N/A'}, {'Stock': 'PFG', 'Price': 76.81, 'MarketCap': 17110809600, 'NoShares': 'N/A'}, {'Stock': 'PG', 'Price': 152.86, 'MarketCap': 358054690816, 'NoShares': 'N/A'}, {'Stock': 'PGR', 'Price': 247.52, 'MarketCap': 145098457088, 'NoShares': 'N/A'}, {'Stock': 'PH', 'Price': 697.13, 'MarketCap': 91345641472, 'NoShares': 'N/A'}, {'Stock': 'PHM', 'Price': 120.23, 'MarketCap': 23876958208, 'NoShares': 'N/A'}, {'Stock': 'PKG', 'Price': 192.22, 'MarketCap': 17412038656, 'NoShares': 'N/A'}, {'Stock': 'PKI', 'Price': None, 'MarketCap': None, 'NoShares': 'N/A'}, {'Stock': 'PLD', 'Price': 105.73, 'MarketCap': 99339894784, 'NoShares': 'N/A'}, {'Stock': 'PM', 'Price': 166.99, 'MarketCap': 259934961664, 'NoShares': 'N/A'}, {'Stock': 'PNC', 'Price': 188.56, 'MarketCap': 74425573376, 'NoShares': 'N/A'}, {'Stock': 'PNR', 'Price': 102.55, 'MarketCap': 17086572544, 'NoShares': 'N/A'}, {'Stock': 'PNW', 'Price': 92.56, 'MarketCap': 11051571200, 'NoShares': 'N/A'}, {'Stock': 'PPG', 'Price': 105.68, 'MarketCap': 23928698880, 'NoShares': 'N/A'}, {'Stock': 'PPL', 'Price': 36.15, 'MarketCap': 26733467648, 'NoShares': 'N/A'}, {'Stock': 'PRGO', 'Price': 23.61, 'MarketCap': 3659644416, 'NoShares': 'N/A'}, {'Stock': 'PRU', 'Price': 104.08, 'MarketCap': 36630228992, 'NoShares': 'N/A'}, {'Stock': 'PSA', 'Price': 281.42, 'MarketCap': 49446060032, 'NoShares': 'N/A'}, {'Stock': 'PSX', 'Price': 119.84, 'MarketCap': 49331417088, 'NoShares': 'N/A'}, {'Stock': 'PVH', 'Price': 74.71, 'MarketCap': 3591541248, 'NoShares': 'N/A'}, {'Stock': 'PWR', 'Price': 387.5, 'MarketCap': 57981235200, 'NoShares': 'N/A'}, {'Stock': 'PXD', 'Price': None, 'MarketCap': None, 'NoShares': 'N/A'}, {'Stock': 'PYPL', 'Price': 69.42, 'MarketCap': 66322337792, 'NoShares': 'N/A'}, {'Stock': 'QCOM', 'Price': 145.84, 'MarketCap': 157361373184, 'NoShares': 'N/A'}, {'Stock': 'QRVO', 'Price': 84.19, 'MarketCap': 7870982656, 'NoShares': 'N/A'}, {'Stock': 'RCL', 'Price': 314.02, 'MarketCap': 85296619520, 'NoShares': 'N/A'}, {'Stock': 'RE', 'Price': None, 'MarketCap': None, 'NoShares': 'N/A'}, {'Stock': 'REG', 'Price': 73.2, 'MarketCap': 13481390080, 'NoShares': 'N/A'}, {'Stock': 'REGN', 'Price': 555.13, 'MarketCap': 60402028544, 'NoShares': 'N/A'}, {'Stock': 'RF', 'Price': 24.93, 'MarketCap': 22510917632, 'NoShares': 'N/A'}, {'Stock': 'RHI', 'Price': 34.66, 'MarketCap': 3598193152, 'NoShares': 'N/A'}, {'Stock': 'RJF', 'Price': 166.76, 'MarketCap': 33351999488, 'NoShares': 'N/A'}, {'Stock': 'RL', 'Price': 302.96, 'MarketCap': 18125854720, 'NoShares': 'N/A'}, {'Stock': 'RMD', 'Price': 280.46, 'MarketCap': 41788817408, 'NoShares': 'N/A'}, {'Stock': 'ROK', 'Price': 328.67, 'MarketCap': 38999982080, 'NoShares': 'N/A'}]\n",
      "\n",
      "\n",
      "[{'Stock': 'ROL', 'Price': 58.33, 'MarketCap': 28269051904, 'NoShares': 'N/A'}, {'Stock': 'ROP', 'Price': 541.84, 'MarketCap': 58309574656, 'NoShares': 'N/A'}, {'Stock': 'ROST', 'Price': 146.55, 'MarketCap': 47932256256, 'NoShares': 'N/A'}, {'Stock': 'RSG', 'Price': 235.52, 'MarketCap': 73533112320, 'NoShares': 'N/A'}, {'Stock': 'RTX', 'Price': 155.75, 'MarketCap': 208477618176, 'NoShares': 'N/A'}, {'Stock': 'SBAC', 'Price': 219.77, 'MarketCap': 23622418432, 'NoShares': 'N/A'}, {'Stock': 'SBUX', 'Price': 88.99, 'MarketCap': 101154930688, 'NoShares': 'N/A'}, {'Stock': 'SCHW', 'Price': 96.71, 'MarketCap': 175719170048, 'NoShares': 'N/A'}, {'Stock': 'SEE', 'Price': 29.28, 'MarketCap': 4405703168, 'NoShares': 'N/A'}, {'Stock': 'SHW', 'Price': 350.73, 'MarketCap': 87787724800, 'NoShares': 'N/A'}, {'Stock': 'SIVB', 'Price': None, 'MarketCap': None, 'NoShares': 'N/A'}, {'Stock': 'SJM', 'Price': 109.03, 'MarketCap': 11692485632, 'NoShares': 'N/A'}, {'Stock': 'SLB', 'Price': 32.86, 'MarketCap': 49016279040, 'NoShares': 'N/A'}, {'Stock': 'SLG', 'Price': 55.43, 'MarketCap': 4208905472, 'NoShares': 'N/A'}, {'Stock': 'SNA', 'Price': 323.19, 'MarketCap': 16858689536, 'NoShares': 'N/A'}, {'Stock': 'SNPS', 'Price': 625.88, 'MarketCap': 116299767808, 'NoShares': 'N/A'}, {'Stock': 'SO', 'Price': 94.68, 'MarketCap': 104152735744, 'NoShares': 'N/A'}, {'Stock': 'SPG', 'Price': 167.53, 'MarketCap': 63864950784, 'NoShares': 'N/A'}, {'Stock': 'SPGI', 'Price': 562.56, 'MarketCap': 171890212864, 'NoShares': 'N/A'}, {'Stock': 'SRE', 'Price': 81.15, 'MarketCap': 53719269376, 'NoShares': 'N/A'}, {'Stock': 'STE', 'Price': 221.21, 'MarketCap': 21760649216, 'NoShares': 'N/A'}, {'Stock': 'STT', 'Price': 110.76, 'MarketCap': 31422060544, 'NoShares': 'N/A'}, {'Stock': 'STX', 'Price': 147.27, 'MarketCap': 32271570944, 'NoShares': 'N/A'}, {'Stock': 'STZ', 'Price': 169.16, 'MarketCap': 29826459648, 'NoShares': 'N/A'}, {'Stock': 'SWK', 'Price': 68.27, 'MarketCap': 10736412672, 'NoShares': 'N/A'}, {'Stock': 'SWKS', 'Price': 67.52, 'MarketCap': 10153251840, 'NoShares': 'N/A'}, {'Stock': 'SYF', 'Price': 69.45, 'MarketCap': 26040276992, 'NoShares': 'N/A'}, {'Stock': 'SYK', 'Price': 374.94, 'MarketCap': 145605705728, 'NoShares': 'N/A'}, {'Stock': 'SYY', 'Price': 81.47, 'MarketCap': 38901600256, 'NoShares': 'N/A'}, {'Stock': 'T', 'Price': 27.49, 'MarketCap': 198566330368, 'NoShares': 'N/A'}, {'Stock': 'TAP', 'Price': 50.21, 'MarketCap': 9741091840, 'NoShares': 'N/A'}, {'Stock': 'TDG', 'Price': 1401.22, 'MarketCap': 79585370112, 'NoShares': 'N/A'}, {'Stock': 'TDY', 'Price': 548.96, 'MarketCap': 25739911168, 'NoShares': 'N/A'}, {'Stock': 'TEL', 'Price': 200.05, 'MarketCap': 59111170048, 'NoShares': 'N/A'}, {'Stock': 'TFC', 'Price': 43.01, 'MarketCap': 55987408896, 'NoShares': 'N/A'}, {'Stock': 'TFX', 'Price': 112.07, 'MarketCap': 4952687104, 'NoShares': 'N/A'}, {'Stock': 'TGT', 'Price': 105.39, 'MarketCap': 47885635584, 'NoShares': 'N/A'}, {'Stock': 'TIF', 'Price': None, 'MarketCap': None, 'NoShares': 'N/A'}, {'Stock': 'TJX', 'Price': 132.1, 'MarketCap': 147373408256, 'NoShares': 'N/A'}, {'Stock': 'TMO', 'Price': 448.94, 'MarketCap': 176125902848, 'NoShares': 'N/A'}, {'Stock': 'TMUS', 'Price': 239.22, 'MarketCap': 269222985728, 'NoShares': 'N/A'}, {'Stock': 'TPR', 'Price': 112.15, 'MarketCap': 23292434432, 'NoShares': 'N/A'}, {'Stock': 'TROW', 'Price': 105.42, 'MarketCap': 23212957696, 'NoShares': 'N/A'}, {'Stock': 'TRV', 'Price': 267.58, 'MarketCap': 60241350656, 'NoShares': 'N/A'}, {'Stock': 'TSCO', 'Price': 60.25, 'MarketCap': 31944730624, 'NoShares': 'N/A'}, {'Stock': 'TSN', 'Price': 56.07, 'MarketCap': 19492622336, 'NoShares': 'N/A'}, {'Stock': 'TT', 'Price': 427.03, 'MarketCap': 95020580864, 'NoShares': 'N/A'}, {'Stock': 'TTWO', 'Price': 227.21, 'MarketCap': 41912750080, 'NoShares': 'N/A'}, {'Stock': 'TWTR', 'Price': 53.7, 'MarketCap': None, 'NoShares': 'N/A'}, {'Stock': 'TXN', 'Price': 185.91, 'MarketCap': 169017671680, 'NoShares': 'N/A'}, {'Stock': 'TXT', 'Price': 77.47, 'MarketCap': 13939255296, 'NoShares': 'N/A'}, {'Stock': 'TYL', 'Price': 611.76, 'MarketCap': 26465839104, 'NoShares': 'N/A'}, {'Stock': 'UA', 'Price': 6.37, 'MarketCap': 2782186752, 'NoShares': 'N/A'}, {'Stock': 'UAA', 'Price': 6.73, 'MarketCap': 2782181888, 'NoShares': 'N/A'}, {'Stock': 'UAL', 'Price': 88.87, 'MarketCap': 28770064384, 'NoShares': 'N/A'}, {'Stock': 'UDR', 'Price': 38.33, 'MarketCap': 14546734080, 'NoShares': 'N/A'}, {'Stock': 'UHS', 'Price': 163.48, 'MarketCap': 10613334016, 'NoShares': 'N/A'}, {'Stock': 'ULTA', 'Price': 516.19, 'MarketCap': 23200468992, 'NoShares': 'N/A'}, {'Stock': 'UNH', 'Price': 245.78, 'MarketCap': 227692298240, 'NoShares': 'N/A'}, {'Stock': 'UNM', 'Price': 70.49, 'MarketCap': 12005362688, 'NoShares': 'N/A'}, {'Stock': 'UNP', 'Price': 225.46, 'MarketCap': 133706801152, 'NoShares': 'N/A'}, {'Stock': 'UPS', 'Price': 86.25, 'MarketCap': 73485090816, 'NoShares': 'N/A'}, {'Stock': 'URI', 'Price': 861.26, 'MarketCap': 55788978176, 'NoShares': 'N/A'}, {'Stock': 'USB', 'Price': 44.44, 'MarketCap': 69425496064, 'NoShares': 'N/A'}, {'Stock': 'V', 'Price': 339.74, 'MarketCap': 654930411520, 'NoShares': 'N/A'}, {'Stock': 'VAR', 'Price': None, 'MarketCap': None, 'NoShares': 'N/A'}, {'Stock': 'VFC', 'Price': 12.26, 'MarketCap': 4788964352, 'NoShares': 'N/A'}, {'Stock': 'VIAC', 'Price': None, 'MarketCap': None, 'NoShares': 'N/A'}, {'Stock': 'VLO', 'Price': 133.46, 'MarketCap': 42506477568, 'NoShares': 'N/A'}, {'Stock': 'VMC', 'Price': 281.59, 'MarketCap': 37413736448, 'NoShares': 'N/A'}, {'Stock': 'VNO', 'Price': 37.78, 'MarketCap': 7740403712, 'NoShares': 'N/A'}, {'Stock': 'VRSK', 'Price': 264.98, 'MarketCap': 37021683712, 'NoShares': 'N/A'}, {'Stock': 'VRSN', 'Price': 273.22, 'MarketCap': 25521098752, 'NoShares': 'N/A'}, {'Stock': 'VRTX', 'Price': 385.65, 'MarketCap': 98877194240, 'NoShares': 'N/A'}, {'Stock': 'VTR', 'Price': 68.5, 'MarketCap': 31235794944, 'NoShares': 'N/A'}, {'Stock': 'VZ', 'Price': 42.35, 'MarketCap': 179910410240, 'NoShares': 'N/A'}, {'Stock': 'WAB', 'Price': 188.35, 'MarketCap': 32291291136, 'NoShares': 'N/A'}, {'Stock': 'WAT', 'Price': 277.72, 'MarketCap': 16737601536, 'NoShares': 'N/A'}, {'Stock': 'WBA', 'Price': 11.83, 'MarketCap': 10239587328, 'NoShares': 'N/A'}, {'Stock': 'WDC', 'Price': 73.78, 'MarketCap': 26458910720, 'NoShares': 'N/A'}, {'Stock': 'WEC', 'Price': 109.73, 'MarketCap': 35405262848, 'NoShares': 'N/A'}, {'Stock': 'WELL', 'Price': 168.96, 'MarketCap': 113493131264, 'NoShares': 'N/A'}, {'Stock': 'WFC', 'Price': 77.61, 'MarketCap': 248618991616, 'NoShares': 'N/A'}, {'Stock': 'WHR', 'Price': 82.92, 'MarketCap': 4724756480, 'NoShares': 'N/A'}, {'Stock': 'WLTW', 'Price': None, 'MarketCap': None, 'NoShares': 'N/A'}, {'Stock': 'WM', 'Price': 231.6, 'MarketCap': 93295435776, 'NoShares': 'N/A'}, {'Stock': 'WMB', 'Price': 58.64, 'MarketCap': 72049205248, 'NoShares': 'N/A'}, {'Stock': 'WMT', 'Price': 103.36, 'MarketCap': 824856215552, 'NoShares': 'N/A'}, {'Stock': 'WRB', 'Price': 70.55, 'MarketCap': 26759120896, 'NoShares': 'N/A'}, {'Stock': 'WRK', 'Price': None, 'MarketCap': None, 'NoShares': 'N/A'}, {'Stock': 'WST', 'Price': 237.28, 'MarketCap': 17175773184, 'NoShares': 'N/A'}, {'Stock': 'WU', 'Price': 8.05, 'MarketCap': 2599884544, 'NoShares': 'N/A'}, {'Stock': 'WY', 'Price': 25.55, 'MarketCap': 18614988800, 'NoShares': 'N/A'}, {'Stock': 'WYNN', 'Price': 107.21, 'MarketCap': 11262624768, 'NoShares': 'N/A'}, {'Stock': 'XEL', 'Price': 73.3, 'MarketCap': 43605876736, 'NoShares': 'N/A'}, {'Stock': 'XLNX', 'Price': None, 'MarketCap': None, 'NoShares': 'N/A'}, {'Stock': 'XOM', 'Price': 106.51, 'MarketCap': 457190998016, 'NoShares': 'N/A'}, {'Stock': 'XRAY', 'Price': 13.68, 'MarketCap': 2800077056, 'NoShares': 'N/A'}, {'Stock': 'XRX', 'Price': 4.17, 'MarketCap': 524611040, 'NoShares': 'N/A'}, {'Stock': 'XYL', 'Price': 143.62, 'MarketCap': 34958544896, 'NoShares': 'N/A'}]\n",
      "\n",
      "\n",
      "[{'Stock': 'YUM', 'Price': 141.34, 'MarketCap': 39287570432, 'NoShares': 'N/A'}, {'Stock': 'ZBH', 'Price': 91.15, 'MarketCap': 18033846272, 'NoShares': 'N/A'}, {'Stock': 'ZBRA', 'Price': 308.31, 'MarketCap': 15676083200, 'NoShares': 'N/A'}, {'Stock': 'ZION', 'Price': 51.52, 'MarketCap': 7744743424, 'NoShares': 'N/A'}, {'Stock': 'ZTS', 'Price': 146.5, 'MarketCap': 65222971392, 'NoShares': 'N/A'}]\n",
      "\n",
      "\n"
     ]
    }
   ],
   "source": [
    "newlst = []\n",
    "def chunks(arr,n):\n",
    "    for i in range(0,len(arr),n):\n",
    "        newlst.append(arr[i:i+n])\n",
    "\n",
    "chunks(lst,100)\n",
    "\n",
    "for item in newlst:\n",
    "    print(item)\n",
    "    print(\"\\n\")"
   ]
  },
  {
   "cell_type": "code",
   "execution_count": 35,
   "id": "d2c39f27",
   "metadata": {},
   "outputs": [
    {
     "name": "stdout",
     "output_type": "stream",
     "text": [
      "{'c': 213.25, 'd': 10.33, 'dp': 5.0907, 'h': 215.38, 'l': 205.59, 'o': 205.63, 'pc': 202.92, 't': 1754510400}\n"
     ]
    }
   ],
   "source": [
    "api_url = f\"https://finnhub.io/api/v1/quote?symbol=AAPL&token={key}\"\n",
    "stck = requests.get(api_url).json()\n",
    "print(stck)"
   ]
  },
  {
   "cell_type": "markdown",
   "id": "668cc07a",
   "metadata": {},
   "source": [
    "Calculating the number of shares to buy."
   ]
  },
  {
   "cell_type": "code",
   "execution_count": 8,
   "id": "c9b6551c",
   "metadata": {},
   "outputs": [],
   "source": [
    "portfolio_size = input(\"Size of portfolio\")\n",
    "\n",
    "try:\n",
    "    value = float(portfolio_size)\n",
    "\n",
    "except ValueError:\n",
    "    portfolio_size = input(\"Size of portfolio\")\n",
    "    value = float(portfolio_size)"
   ]
  },
  {
   "cell_type": "markdown",
   "id": "19b02308",
   "metadata": {},
   "source": [
    "Every stock needs to have the same position size as it is equal weight."
   ]
  },
  {
   "cell_type": "code",
   "execution_count": 9,
   "id": "8d49f7e6",
   "metadata": {},
   "outputs": [
    {
     "name": "stdout",
     "output_type": "stream",
     "text": [
      "113.23\n"
     ]
    },
    {
     "data": {
      "text/html": [
       "<div>\n",
       "<style scoped>\n",
       "    .dataframe tbody tr th:only-of-type {\n",
       "        vertical-align: middle;\n",
       "    }\n",
       "\n",
       "    .dataframe tbody tr th {\n",
       "        vertical-align: top;\n",
       "    }\n",
       "\n",
       "    .dataframe thead th {\n",
       "        text-align: right;\n",
       "    }\n",
       "</style>\n",
       "<table border=\"1\" class=\"dataframe\">\n",
       "  <thead>\n",
       "    <tr style=\"text-align: right;\">\n",
       "      <th></th>\n",
       "      <th>Stock</th>\n",
       "      <th>Price</th>\n",
       "      <th>MarketCap</th>\n",
       "      <th>NoShares</th>\n",
       "    </tr>\n",
       "  </thead>\n",
       "  <tbody>\n",
       "    <tr>\n",
       "      <th>0</th>\n",
       "      <td>A</td>\n",
       "      <td>113.23</td>\n",
       "      <td>3.263617e+10</td>\n",
       "      <td>17</td>\n",
       "    </tr>\n",
       "    <tr>\n",
       "      <th>1</th>\n",
       "      <td>AAL</td>\n",
       "      <td>11.74</td>\n",
       "      <td>7.746392e+09</td>\n",
       "      <td>168</td>\n",
       "    </tr>\n",
       "    <tr>\n",
       "      <th>2</th>\n",
       "      <td>AAP</td>\n",
       "      <td>60.43</td>\n",
       "      <td>3.621304e+09</td>\n",
       "      <td>32</td>\n",
       "    </tr>\n",
       "    <tr>\n",
       "      <th>3</th>\n",
       "      <td>AAPL</td>\n",
       "      <td>213.25</td>\n",
       "      <td>3.164715e+12</td>\n",
       "      <td>9</td>\n",
       "    </tr>\n",
       "    <tr>\n",
       "      <th>4</th>\n",
       "      <td>ABBV</td>\n",
       "      <td>196.30</td>\n",
       "      <td>3.467757e+11</td>\n",
       "      <td>10</td>\n",
       "    </tr>\n",
       "    <tr>\n",
       "      <th>...</th>\n",
       "      <td>...</td>\n",
       "      <td>...</td>\n",
       "      <td>...</td>\n",
       "      <td>...</td>\n",
       "    </tr>\n",
       "    <tr>\n",
       "      <th>500</th>\n",
       "      <td>YUM</td>\n",
       "      <td>141.34</td>\n",
       "      <td>3.928757e+10</td>\n",
       "      <td>14</td>\n",
       "    </tr>\n",
       "    <tr>\n",
       "      <th>501</th>\n",
       "      <td>ZBH</td>\n",
       "      <td>91.15</td>\n",
       "      <td>1.803385e+10</td>\n",
       "      <td>21</td>\n",
       "    </tr>\n",
       "    <tr>\n",
       "      <th>502</th>\n",
       "      <td>ZBRA</td>\n",
       "      <td>308.31</td>\n",
       "      <td>1.567608e+10</td>\n",
       "      <td>6</td>\n",
       "    </tr>\n",
       "    <tr>\n",
       "      <th>503</th>\n",
       "      <td>ZION</td>\n",
       "      <td>51.52</td>\n",
       "      <td>7.744743e+09</td>\n",
       "      <td>38</td>\n",
       "    </tr>\n",
       "    <tr>\n",
       "      <th>504</th>\n",
       "      <td>ZTS</td>\n",
       "      <td>146.50</td>\n",
       "      <td>6.522297e+10</td>\n",
       "      <td>13</td>\n",
       "    </tr>\n",
       "  </tbody>\n",
       "</table>\n",
       "<p>505 rows × 4 columns</p>\n",
       "</div>"
      ],
      "text/plain": [
       "    Stock   Price     MarketCap NoShares\n",
       "0       A  113.23  3.263617e+10       17\n",
       "1     AAL   11.74  7.746392e+09      168\n",
       "2     AAP   60.43  3.621304e+09       32\n",
       "3    AAPL  213.25  3.164715e+12        9\n",
       "4    ABBV  196.30  3.467757e+11       10\n",
       "..    ...     ...           ...      ...\n",
       "500   YUM  141.34  3.928757e+10       14\n",
       "501   ZBH   91.15  1.803385e+10       21\n",
       "502  ZBRA  308.31  1.567608e+10        6\n",
       "503  ZION   51.52  7.744743e+09       38\n",
       "504   ZTS  146.50  6.522297e+10       13\n",
       "\n",
       "[505 rows x 4 columns]"
      ]
     },
     "execution_count": 9,
     "metadata": {},
     "output_type": "execute_result"
    }
   ],
   "source": [
    "position_size = value/len(df.index) # df.index gives a range and len of that is no. of rows.\n",
    "print(df.loc[0,\"Price\"])\n",
    "for i in range(0,len(df.index)):\n",
    "    price = df.loc[i,\"Price\"]\n",
    "    if pd.notna(price) and price > 0:\n",
    "        df.loc[i,\"NoShares\"] = math.floor(position_size/df.loc[i,\"Price\"])\n",
    "    \n",
    "\n",
    "df"
   ]
  },
  {
   "cell_type": "markdown",
   "id": "524746ae",
   "metadata": {},
   "source": [
    "Lets format our output using XlsxWriter."
   ]
  },
  {
   "cell_type": "code",
   "execution_count": 30,
   "id": "6c49392e",
   "metadata": {},
   "outputs": [],
   "source": [
    "writer = pd.ExcelWriter(\"trades.xlsx\",engine=\"xlsxwriter\")\n",
    "df.to_excel(writer,sheet_name=\"Trades\",index=False)\n"
   ]
  },
  {
   "cell_type": "markdown",
   "id": "685049ac",
   "metadata": {},
   "source": [
    "Add formatting to it now. These include colors fonts symbols.\n",
    "We need 4 main formats:\n",
    "* String format for tickers\n",
    "* \\\\$XX.XX format for stock prices\n",
    "* \\\\$XX,XXX format for market capitalization\n",
    "* Integer format for the number of shares to purchase\n",
    "\n",
    "\n"
   ]
  },
  {
   "cell_type": "code",
   "execution_count": 31,
   "id": "ffb0e5e2",
   "metadata": {},
   "outputs": [],
   "source": [
    "bg_col = \"#0a0a23\"\n",
    "font_col = \"#ffffff\"\n",
    "\n",
    "header_format = writer.book.add_format(\n",
    "\n",
    "    {\n",
    "        \"font_color\": bg_col,\n",
    "        \"bg_color\" : font_col,\n",
    "        \"border\" : 2\n",
    "    }\n",
    ")\n",
    "\n",
    "string_format = writer.book.add_format(\n",
    "\n",
    "    {\n",
    "        \"font_color\": font_col,\n",
    "        \"bg_color\": bg_col,\n",
    "        \"border\": 1\n",
    "    }\n",
    "\n",
    "\n",
    ")\n",
    "\n",
    "dollar_format = writer.book.add_format(\n",
    "\n",
    "    {\n",
    "        \"num_format\": \"$0.00\",\n",
    "        \"font_color\": font_col,\n",
    "        \"bg_color\": bg_col,\n",
    "        \"border\": 1\n",
    "    }\n",
    "\n",
    "\n",
    ")\n",
    "\n",
    "integer_format = writer.book.add_format(\n",
    "\n",
    "    {\n",
    "        \"num_format\": \"0\",\n",
    "        \"font_color\": font_col,\n",
    "        \"bg_color\": bg_col,\n",
    "        \"border\": 1\n",
    "    }\n",
    "\n",
    "\n",
    ")\n"
   ]
  },
  {
   "cell_type": "markdown",
   "id": "d31f00bd",
   "metadata": {},
   "source": [
    "After creating these formats lets apply them using the set_colummn method.\n",
    "```python\n",
    "writer.sheets['Recommended Trades'].set_column('B:B', #This tells the method to apply the format to column B\n",
    "                     18, #This tells the method to apply a column width of 18 pixels\n",
    "                     string_format #This applies the format 'string_format' to the column\n",
    "                    )\n",
    "```"
   ]
  },
  {
   "cell_type": "code",
   "execution_count": 18,
   "id": "3e4c7f20",
   "metadata": {},
   "outputs": [],
   "source": [
    "writer.sheets[\"Trades\"].set_column(\"A:A\",18,string_format)\n",
    "writer.close()"
   ]
  },
  {
   "cell_type": "markdown",
   "id": "ce4c952d",
   "metadata": {},
   "source": [
    "But instead of doing one at a time lets just use a for loop."
   ]
  },
  {
   "cell_type": "code",
   "execution_count": 32,
   "id": "657ddb86",
   "metadata": {},
   "outputs": [],
   "source": [
    "column_formats = {\n",
    "\n",
    "    \"A\": [\"Stock\",string_format],\n",
    "    \"B\": [\"Price\",dollar_format],\n",
    "    \"C\": [\"Market Cap\",dollar_format],\n",
    "    \"D\": [\"No.Shares\",integer_format]\n",
    "\n",
    "}\n",
    "\n",
    "for key in column_formats.keys():\n",
    "    writer.sheets[\"Trades\"].write(f\"{key}1\", column_formats[key][0],header_format)\n",
    "    writer.sheets[\"Trades\"].set_column(f\"{key}:{key}\",20,column_formats[key][1])\n",
    "\n",
    "writer.close()"
   ]
  }
 ],
 "metadata": {
  "kernelspec": {
   "display_name": "venv",
   "language": "python",
   "name": "python3"
  },
  "language_info": {
   "codemirror_mode": {
    "name": "ipython",
    "version": 3
   },
   "file_extension": ".py",
   "mimetype": "text/x-python",
   "name": "python",
   "nbconvert_exporter": "python",
   "pygments_lexer": "ipython3",
   "version": "3.11.5"
  }
 },
 "nbformat": 4,
 "nbformat_minor": 5
}
