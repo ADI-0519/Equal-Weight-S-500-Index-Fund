{
 "cells": [
  {
   "cell_type": "code",
   "execution_count": null,
   "id": "da95223e-ec4c-4cb4-8059-8a1a649c73f3",
   "metadata": {},
   "outputs": [],
   "source": [
    "import pandas as pd\n",
    "import numpy as np\n",
    "\n",
    "print(pd.__version__)\n",
    "print(np.__version__)"
   ]
  },
  {
   "cell_type": "markdown",
   "id": "e4bdc6d9",
   "metadata": {},
   "source": [
    "Import pandas and numpy to check working state."
   ]
  },
  {
   "cell_type": "code",
   "execution_count": null,
   "id": "c90a65a5",
   "metadata": {},
   "outputs": [],
   "source": []
  }
 ],
 "metadata": {
  "kernelspec": {
   "display_name": "Python (EquityScreener)",
   "language": "python",
   "name": "equityscreener"
  },
  "language_info": {
   "codemirror_mode": {
    "name": "ipython",
    "version": 3
   },
   "file_extension": ".py",
   "mimetype": "text/x-python",
   "name": "python",
   "nbconvert_exporter": "python",
   "pygments_lexer": "ipython3",
   "version": "3.11.5"
  }
 },
 "nbformat": 4,
 "nbformat_minor": 5
}
